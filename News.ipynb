{
  "nbformat": 4,
  "nbformat_minor": 0,
  "metadata": {
    "colab": {
      "provenance": [],
      "authorship_tag": "ABX9TyNMFgTxmdTrhQ/uBPsZNhrL",
      "include_colab_link": true
    },
    "kernelspec": {
      "name": "python3",
      "display_name": "Python 3"
    },
    "language_info": {
      "name": "python"
    }
  },
  "cells": [
    {
      "cell_type": "markdown",
      "metadata": {
        "id": "view-in-github",
        "colab_type": "text"
      },
      "source": [
        "<a href=\"https://colab.research.google.com/github/kerbezbolatbekkyzy/Simple-Web-Server/blob/main/News.ipynb\" target=\"_parent\"><img src=\"https://colab.research.google.com/assets/colab-badge.svg\" alt=\"Open In Colab\"/></a>"
      ]
    },
    {
      "cell_type": "markdown",
      "source": [
        "NEWS SCRAPPING"
      ],
      "metadata": {
        "id": "ZpWn73qk7OTI"
      }
    },
    {
      "cell_type": "code",
      "source": [
        "from selenium import webdriver\n",
        "from selenium.webdriver.edge.service import Service\n",
        "from selenium.webdriver.common.by import By\n",
        "from bs4 import BeautifulSoup\n",
        "import time\n",
        "\n",
        "edge_service = Service(r\"C:\\Users\\asus\\Downloads\\edgedriver_win64\\msedgedriver.exe\")\n",
        "\n",
        "base_url = \"https://kaz.nur.kz/latest/\"\n",
        "\n",
        "def main(base_url):\n",
        "    driver = webdriver.Edge(service=edge_service)\n",
        "    driver.get(base_url)\n",
        "\n",
        "    map = {}\n",
        "    record_id = 0\n",
        "    seen_articles = set()\n",
        "    scroll_pause_time = 2\n",
        "    i=0\n",
        "    while record_id < 10000:\n",
        "        # жаңа контект жүктеу үшін беттің соңына дейін жылжыту\n",
        "        last_height = driver.execute_script(\"return document.body.scrollHeight\")\n",
        "\n",
        "        while i<200:\n",
        "            # Беттің төменгі жағына жылжыту\n",
        "            driver.execute_script(\"window.scrollTo(0, document.body.scrollHeight);\")\n",
        "            time.sleep(scroll_pause_time)\n",
        "            time.sleep(2)\n",
        "            i += 1\n",
        "\n",
        "            # Бет биіктігінің жоғарылағанын тексеру\n",
        "            new_height = driver.execute_script(\"return document.body.scrollHeight\")\n",
        "            if new_height == last_height:\n",
        "                break  # егер биіктік өзгермесе тоқтату\n",
        "            last_height = new_height\n",
        "\n",
        "        # Беттің HTML мазмұнын аламыз және өңдеуді бастаймыз\n",
        "        soup = BeautifulSoup(driver.page_source, 'lxml')\n",
        "\n",
        "        # Жаңалықтар бөлімедерін іздеу\n",
        "        cards = soup.find_all('article')\n",
        "\n",
        "        if not cards:\n",
        "            print(\"Нет больше данных для извлечения.\")\n",
        "            break\n",
        "\n",
        "        new_data_found = False\n",
        "        for card in cards:\n",
        "            try:\n",
        "                category = card.find(\"span\", class_=\"article-preview-category__text\").text.strip()\n",
        "                headline = card.find(\"h2\", class_=\"article-preview-category__subhead\").text.strip().replace('(фото)', '').replace('(видео)', '').strip()\n",
        "                news_link = card.find(\"a\", class_=\"article-preview-category__content\")['href']\n",
        "\n",
        "                # Жаңалықтың бірегейлігін тексеру\n",
        "                article_id = (category, headline)\n",
        "                if article_id not in seen_articles:\n",
        "                    seen_articles.add(article_id)\n",
        "                    record_id += 1\n",
        "                    map[record_id] = {\"Категория\": category, \"Новости\": headline}\n",
        "                    print(f\"Собираем: {category} - {headline}\")\n",
        "\n",
        "                    # Жаңалықтарды жаңа қойындыда ашамыз\n",
        "                    driver.execute_script(\"window.open(arguments[0]);\", news_link)\n",
        "                    driver.switch_to.window(driver.window_handles[1])  # жаңа қойындыға өту\n",
        "                    time.sleep(3)\n",
        "\n",
        "                    # Жаңалық мазмұнын жинау\n",
        "                    inner_soup = BeautifulSoup(driver.page_source, 'lxml')\n",
        "                    formatted_body_content = inner_soup.find('div', class_='formatted-body__content')\n",
        "\n",
        "                    if formatted_body_content:\n",
        "                        for figcaption in formatted_body_content.find_all('figcaption'):\n",
        "                            figcaption.decompose()\n",
        "                        text = formatted_body_content.get_text(separator=' ', strip=True)\n",
        "                        text = text.replace('\\n', ' ').replace('\\u200b', ' ').replace('\\xa0', ' ')\n",
        "                    else:\n",
        "                        text = \"Текст не найден.\"\n",
        "\n",
        "                    map[record_id][\"Новости\"] += \" \" + text\n",
        "\n",
        "                    # Жаңалықтар қойындысын жауып, негізгі бетке оралыңыз\n",
        "                    driver.close()\n",
        "                    driver.switch_to.window(driver.window_handles[0])\n",
        "                    new_data_found = True\n",
        "                    time.sleep(2)\n",
        "            except Exception as e:\n",
        "                print(f\"Ошибка при обработке карточки: {e}\")\n",
        "\n",
        "        if not new_data_found:\n",
        "            print(\"Нет новых данных для извлечения.\")\n",
        "            break\n",
        "\n",
        "        # Деректерді сақтау\n",
        "        with open('dataset_news.txt', 'a', encoding='utf-8') as file:\n",
        "            for key, value in map.items():\n",
        "                file.write(f'{key}, {value}\\n')\n",
        "            print(\"Данные сохранены.\")\n",
        "\n",
        "    driver.quit()\n",
        "\n",
        "main(base_url)\n"
      ],
      "metadata": {
        "id": "4yF7P3LN7REH"
      },
      "execution_count": null,
      "outputs": []
    },
    {
      "cell_type": "markdown",
      "source": [
        "Data Cleaning and Preprocessing\n"
      ],
      "metadata": {
        "id": "AAlvIL1PQn4P"
      }
    },
    {
      "cell_type": "code",
      "source": [],
      "metadata": {
        "id": "OUq6po4lQquM"
      },
      "execution_count": null,
      "outputs": []
    }
  ]
}